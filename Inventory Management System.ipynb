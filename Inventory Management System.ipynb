{
 "cells": [
  {
   "cell_type": "code",
   "execution_count": null,
   "id": "b8f9cc11",
   "metadata": {},
   "outputs": [],
   "source": [
    "            #    product                   category              price        quatity       expiry date"
   ]
  },
  {
   "cell_type": "code",
   "execution_count": 36,
   "id": "6e4399fd",
   "metadata": {},
   "outputs": [],
   "source": [
    "records={10001:{'Product':'Oreo', 'Category':'Biscuits','Price':30,'Quantity':50,'Expiry Date':2022},\n",
    "         10002:{'Product':'Kitkat',     'Category':'Chocolate','Price':10,'Quantity': 40 ,'Expiry Date':2022},\n",
    "         10003:{'Product':'Little Hearts',     'Category':'Biscuits','Price':10,'Quantity':40,'Expiry Date':2022},\n",
    "         10004:{'Product':'Dairy Milk Silk',   'Category':'Chocolate','Price':80,'Quantity':50,'Expiry Date':2022},\n",
    "         10005:{'Product':'Hide & Seek', 'Category':'Biscuits','Price':30,'Quantity':50,'Expiry Date':2022},\n",
    "         10006:{'Product':'Munch',       'Category':'Chocolate','Price':5,'Quantity':50,  'Expiry Date':2022},\n",
    "         10007:{'Product':'Uncle Chips',       'Category':'Chips',    'Price':10,'Quantity':30,'Expiry Date':2023},\n",
    "         10008:{'Product':'Kurkure',    'Category':'Chips',    'Price':10,'Quantity':60,'Expiry Date':2023}}\n",
    "        "
   ]
  },
  {
   "cell_type": "code",
   "execution_count": null,
   "id": "ac968150",
   "metadata": {},
   "outputs": [],
   "source": []
  },
  {
   "cell_type": "code",
   "execution_count": 37,
   "id": "54910d3f",
   "metadata": {},
   "outputs": [],
   "source": [
    "import json"
   ]
  },
  {
   "cell_type": "code",
   "execution_count": 38,
   "id": "c468a01d",
   "metadata": {},
   "outputs": [],
   "source": [
    "js=json.dumps(records)"
   ]
  },
  {
   "cell_type": "code",
   "execution_count": 39,
   "id": "cbd6f20f",
   "metadata": {},
   "outputs": [
    {
     "data": {
      "text/plain": [
       "'{\"10001\": {\"Product\": \"Oreo\", \"Category\": \"Biscuits\", \"Price\": 30, \"Quantity\": 50, \"Expiry Date\": 2022}, \"10002\": {\"Product\": \"Kitkat\", \"Category\": \"Chocolate\", \"Price\": 10, \"Quantity\": 40, \"Expiry Date\": 2022}, \"10003\": {\"Product\": \"Little Hearts\", \"Category\": \"Biscuits\", \"Price\": 10, \"Quantity\": 40, \"Expiry Date\": 2022}, \"10004\": {\"Product\": \"Dairy Milk Silk\", \"Category\": \"Chocolate\", \"Price\": 80, \"Quantity\": 50, \"Expiry Date\": 2022}, \"10005\": {\"Product\": \"Hide & Seek\", \"Category\": \"Biscuits\", \"Price\": 30, \"Quantity\": 50, \"Expiry Date\": 2022}, \"10006\": {\"Product\": \"Munch\", \"Category\": \"Chocolate\", \"Price\": 5, \"Quantity\": 50, \"Expiry Date\": 2022}, \"10007\": {\"Product\": \"Uncle Chips\", \"Category\": \"Chips\", \"Price\": 10, \"Quantity\": 30, \"Expiry Date\": 2023}, \"10008\": {\"Product\": \"Kurkure\", \"Category\": \"Chips\", \"Price\": 10, \"Quantity\": 60, \"Expiry Date\": 2023}}'"
      ]
     },
     "execution_count": 39,
     "metadata": {},
     "output_type": "execute_result"
    }
   ],
   "source": [
    "js"
   ]
  },
  {
   "cell_type": "code",
   "execution_count": 40,
   "id": "cc5f7b36",
   "metadata": {},
   "outputs": [],
   "source": [
    "fd=open(\"record.json\",'w')\n",
    "txt=fd.write(js)\n",
    "fd.close()\n"
   ]
  },
  {
   "cell_type": "code",
   "execution_count": 41,
   "id": "bdbe4611",
   "metadata": {},
   "outputs": [],
   "source": [
    "\n",
    "fd=open(\"record.json\",'r')\n",
    "txt=fd.read()\n",
    "fd.close()"
   ]
  },
  {
   "cell_type": "code",
   "execution_count": 42,
   "id": "87be9c50",
   "metadata": {},
   "outputs": [
    {
     "data": {
      "text/plain": [
       "'{\"10001\": {\"Product\": \"Oreo\", \"Category\": \"Biscuits\", \"Price\": 30, \"Quantity\": 50, \"Expiry Date\": 2022}, \"10002\": {\"Product\": \"Kitkat\", \"Category\": \"Chocolate\", \"Price\": 10, \"Quantity\": 40, \"Expiry Date\": 2022}, \"10003\": {\"Product\": \"Little Hearts\", \"Category\": \"Biscuits\", \"Price\": 10, \"Quantity\": 40, \"Expiry Date\": 2022}, \"10004\": {\"Product\": \"Dairy Milk Silk\", \"Category\": \"Chocolate\", \"Price\": 80, \"Quantity\": 50, \"Expiry Date\": 2022}, \"10005\": {\"Product\": \"Hide & Seek\", \"Category\": \"Biscuits\", \"Price\": 30, \"Quantity\": 50, \"Expiry Date\": 2022}, \"10006\": {\"Product\": \"Munch\", \"Category\": \"Chocolate\", \"Price\": 5, \"Quantity\": 50, \"Expiry Date\": 2022}, \"10007\": {\"Product\": \"Uncle Chips\", \"Category\": \"Chips\", \"Price\": 10, \"Quantity\": 30, \"Expiry Date\": 2023}, \"10008\": {\"Product\": \"Kurkure\", \"Category\": \"Chips\", \"Price\": 10, \"Quantity\": 60, \"Expiry Date\": 2023}}'"
      ]
     },
     "execution_count": 42,
     "metadata": {},
     "output_type": "execute_result"
    }
   ],
   "source": [
    "txt"
   ]
  },
  {
   "cell_type": "code",
   "execution_count": 43,
   "id": "6aa155a8",
   "metadata": {},
   "outputs": [],
   "source": [
    "records=json.loads(js)"
   ]
  },
  {
   "cell_type": "code",
   "execution_count": 44,
   "id": "e25601d8",
   "metadata": {},
   "outputs": [
    {
     "data": {
      "text/plain": [
       "{'10001': {'Product': 'Oreo',\n",
       "  'Category': 'Biscuits',\n",
       "  'Price': 30,\n",
       "  'Quantity': 50,\n",
       "  'Expiry Date': 2022},\n",
       " '10002': {'Product': 'Kitkat',\n",
       "  'Category': 'Chocolate',\n",
       "  'Price': 10,\n",
       "  'Quantity': 40,\n",
       "  'Expiry Date': 2022},\n",
       " '10003': {'Product': 'Little Hearts',\n",
       "  'Category': 'Biscuits',\n",
       "  'Price': 10,\n",
       "  'Quantity': 40,\n",
       "  'Expiry Date': 2022},\n",
       " '10004': {'Product': 'Dairy Milk Silk',\n",
       "  'Category': 'Chocolate',\n",
       "  'Price': 80,\n",
       "  'Quantity': 50,\n",
       "  'Expiry Date': 2022},\n",
       " '10005': {'Product': 'Hide & Seek',\n",
       "  'Category': 'Biscuits',\n",
       "  'Price': 30,\n",
       "  'Quantity': 50,\n",
       "  'Expiry Date': 2022},\n",
       " '10006': {'Product': 'Munch',\n",
       "  'Category': 'Chocolate',\n",
       "  'Price': 5,\n",
       "  'Quantity': 50,\n",
       "  'Expiry Date': 2022},\n",
       " '10007': {'Product': 'Uncle Chips',\n",
       "  'Category': 'Chips',\n",
       "  'Price': 10,\n",
       "  'Quantity': 30,\n",
       "  'Expiry Date': 2023},\n",
       " '10008': {'Product': 'Kurkure',\n",
       "  'Category': 'Chips',\n",
       "  'Price': 10,\n",
       "  'Quantity': 60,\n",
       "  'Expiry Date': 2023}}"
      ]
     },
     "execution_count": 44,
     "metadata": {},
     "output_type": "execute_result"
    }
   ],
   "source": [
    "records"
   ]
  },
  {
   "cell_type": "markdown",
   "id": "4aaea44c",
   "metadata": {},
   "source": [
    "\n",
    "\n"
   ]
  },
  {
   "cell_type": "code",
   "execution_count": 45,
   "id": "3d84d008",
   "metadata": {},
   "outputs": [],
   "source": [
    "import time"
   ]
  },
  {
   "cell_type": "code",
   "execution_count": 46,
   "id": "4013f002",
   "metadata": {},
   "outputs": [],
   "source": [
    " def storeInJson():\n",
    "    js=json.dumps(records)\n",
    "    fd=open(\"record.json\",'w')\n",
    "    txt=fd.write(js)\n",
    "    fd.close()"
   ]
  },
  {
   "cell_type": "code",
   "execution_count": 47,
   "id": "1b5151d3",
   "metadata": {},
   "outputs": [
    {
     "name": "stdout",
     "output_type": "stream",
     "text": [
      "Here is the list of items available\n",
      "********************************************\n",
      "1 Oreo\n",
      "2 Kitkat\n",
      "3 Little Hearts\n",
      "4 Dairy Milk Silk\n",
      "5 Hide & Seek\n",
      "6 Munch\n",
      "7 Uncle Chips\n",
      "8 Kurkure\n",
      "********************************************\n",
      "enter the no of items you want to purchase: 1\n",
      "enter the product id : 10001\n",
      "enter the quantity: 5\n",
      "Product- Oreo\n",
      "Category- Biscuits\n",
      "Price- 30\n",
      "Quantity- 5\n",
      "Expiry Date- 2022\n",
      "time of purchase - Mon Sep  6 20:52:25 2021\n",
      "********************************************\n",
      "your total amount is =  150\n",
      "********************************************\n",
      "you total purchase amount is  150\n"
     ]
    }
   ],
   "source": [
    "\n",
    "\n",
    "\n",
    "\n",
    "print(\"Here is the list of items available\")\n",
    "print(\"********************************************\")\n",
    "j=1\n",
    "for i in records:\n",
    "\n",
    "    print(j,records[i][\"Product\"])\n",
    "    j+=1\n",
    "print(\"********************************************\")    \n",
    "n=int(input(\"enter the no of items you want to purchase: \"))\n",
    "s=0\n",
    "for i in range(n):\n",
    "    \n",
    "    pro_id=input(\"enter the product id : \")\n",
    "\n",
    "    quant=int(input(\"enter the quantity: \"))\n",
    "    if(quant<=records[pro_id]['Quantity']):\n",
    "\n",
    "        if pro_id in records.keys():\n",
    "\n",
    "            print(\"Product-\",records[pro_id]['Product'])\n",
    "            print(\"Category-\",records[pro_id]['Category'])\n",
    "            print(\"Price-\",records[pro_id]['Price'])\n",
    "            print(\"Quantity-\",quant)\n",
    "            print(\"Expiry Date-\",records[pro_id]['Expiry Date'])\n",
    "            print(\"time of purchase -\", time.ctime())     \n",
    "            print(\"********************************************\") \n",
    "            p=records[pro_id]['Price']*quant\n",
    "            print(\"your total amount is = \",p)\n",
    "            print(\"********************************************\") \n",
    "            records[pro_id][\"Quantity\"]=records[pro_id]['Quantity']-quant\n",
    "            s=s+p\n",
    "            \n",
    "\n",
    "        else:\n",
    "            print(\"invalid id\")\n",
    "    else:\n",
    "        y=quant-records[pro_id]['Quantity']\n",
    "        print(\"you have asked\",y ,\"more then we have in stock\")\n",
    "        \n",
    "print(\"you total purchase amount is \",s)\n",
    "\n",
    "        \n",
    "       \n",
    "\n",
    "\n",
    "\n",
    "\n",
    "   "
   ]
  },
  {
   "cell_type": "code",
   "execution_count": 48,
   "id": "234ee763",
   "metadata": {},
   "outputs": [
    {
     "data": {
      "text/plain": [
       "{'10001': {'Product': 'Oreo',\n",
       "  'Category': 'Biscuits',\n",
       "  'Price': 30,\n",
       "  'Quantity': 45,\n",
       "  'Expiry Date': 2022},\n",
       " '10002': {'Product': 'Kitkat',\n",
       "  'Category': 'Chocolate',\n",
       "  'Price': 10,\n",
       "  'Quantity': 40,\n",
       "  'Expiry Date': 2022},\n",
       " '10003': {'Product': 'Little Hearts',\n",
       "  'Category': 'Biscuits',\n",
       "  'Price': 10,\n",
       "  'Quantity': 40,\n",
       "  'Expiry Date': 2022},\n",
       " '10004': {'Product': 'Dairy Milk Silk',\n",
       "  'Category': 'Chocolate',\n",
       "  'Price': 80,\n",
       "  'Quantity': 50,\n",
       "  'Expiry Date': 2022},\n",
       " '10005': {'Product': 'Hide & Seek',\n",
       "  'Category': 'Biscuits',\n",
       "  'Price': 30,\n",
       "  'Quantity': 50,\n",
       "  'Expiry Date': 2022},\n",
       " '10006': {'Product': 'Munch',\n",
       "  'Category': 'Chocolate',\n",
       "  'Price': 5,\n",
       "  'Quantity': 50,\n",
       "  'Expiry Date': 2022},\n",
       " '10007': {'Product': 'Uncle Chips',\n",
       "  'Category': 'Chips',\n",
       "  'Price': 10,\n",
       "  'Quantity': 30,\n",
       "  'Expiry Date': 2023},\n",
       " '10008': {'Product': 'Kurkure',\n",
       "  'Category': 'Chips',\n",
       "  'Price': 10,\n",
       "  'Quantity': 60,\n",
       "  'Expiry Date': 2023}}"
      ]
     },
     "execution_count": 48,
     "metadata": {},
     "output_type": "execute_result"
    }
   ],
   "source": [
    "records\n"
   ]
  },
  {
   "cell_type": "code",
   "execution_count": 49,
   "id": "f741f671",
   "metadata": {},
   "outputs": [
    {
     "data": {
      "text/plain": [
       "'{\"10001\": {\"Product\": \"Oreo\", \"Category\": \"Biscuits\", \"Price\": 30, \"Quantity\": 50, \"Expiry Date\": 2022}, \"10002\": {\"Product\": \"Kitkat\", \"Category\": \"Chocolate\", \"Price\": 10, \"Quantity\": 40, \"Expiry Date\": 2022}, \"10003\": {\"Product\": \"Little Hearts\", \"Category\": \"Biscuits\", \"Price\": 10, \"Quantity\": 40, \"Expiry Date\": 2022}, \"10004\": {\"Product\": \"Dairy Milk Silk\", \"Category\": \"Chocolate\", \"Price\": 80, \"Quantity\": 50, \"Expiry Date\": 2022}, \"10005\": {\"Product\": \"Hide & Seek\", \"Category\": \"Biscuits\", \"Price\": 30, \"Quantity\": 50, \"Expiry Date\": 2022}, \"10006\": {\"Product\": \"Munch\", \"Category\": \"Chocolate\", \"Price\": 5, \"Quantity\": 50, \"Expiry Date\": 2022}, \"10007\": {\"Product\": \"Uncle Chips\", \"Category\": \"Chips\", \"Price\": 10, \"Quantity\": 30, \"Expiry Date\": 2023}, \"10008\": {\"Product\": \"Kurkure\", \"Category\": \"Chips\", \"Price\": 10, \"Quantity\": 60, \"Expiry Date\": 2023}}'"
      ]
     },
     "execution_count": 49,
     "metadata": {},
     "output_type": "execute_result"
    }
   ],
   "source": [
    "js"
   ]
  },
  {
   "cell_type": "code",
   "execution_count": 50,
   "id": "cb528e26",
   "metadata": {},
   "outputs": [],
   "source": [
    "def salesInfo():\n",
    "    #category ,quant sold,amount\n",
    "    \n",
    "    dict\n",
    "    \n",
    "    "
   ]
  },
  {
   "cell_type": "code",
   "execution_count": 164,
   "id": "2875448a",
   "metadata": {},
   "outputs": [],
   "source": [
    "\n"
   ]
  },
  {
   "cell_type": "code",
   "execution_count": null,
   "id": "0bfe57a3",
   "metadata": {},
   "outputs": [],
   "source": [
    "\n",
    "    "
   ]
  },
  {
   "cell_type": "code",
   "execution_count": 161,
   "id": "2b1f2cd9",
   "metadata": {},
   "outputs": [],
   "source": []
  },
  {
   "cell_type": "code",
   "execution_count": null,
   "id": "35188f06",
   "metadata": {},
   "outputs": [],
   "source": []
  },
  {
   "cell_type": "code",
   "execution_count": null,
   "id": "576a78f7",
   "metadata": {},
   "outputs": [],
   "source": []
  },
  {
   "cell_type": "code",
   "execution_count": null,
   "id": "5c0f9d9b",
   "metadata": {},
   "outputs": [],
   "source": []
  },
  {
   "cell_type": "code",
   "execution_count": null,
   "id": "de47efac",
   "metadata": {},
   "outputs": [],
   "source": []
  },
  {
   "cell_type": "code",
   "execution_count": null,
   "id": "bf03caa3",
   "metadata": {},
   "outputs": [],
   "source": []
  }
 ],
 "metadata": {
  "kernelspec": {
   "display_name": "Python 3",
   "language": "python",
   "name": "python3"
  },
  "language_info": {
   "codemirror_mode": {
    "name": "ipython",
    "version": 3
   },
   "file_extension": ".py",
   "mimetype": "text/x-python",
   "name": "python",
   "nbconvert_exporter": "python",
   "pygments_lexer": "ipython3",
   "version": "3.8.11"
  }
 },
 "nbformat": 4,
 "nbformat_minor": 5
}
